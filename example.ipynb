{
 "cells": [
  {
   "cell_type": "code",
   "execution_count": 43,
   "id": "72afbe01",
   "metadata": {},
   "outputs": [
    {
     "name": "stdout",
     "output_type": "stream",
     "text": [
      "Agent pid 1925\n",
      "Identity added: /home/jovyan/.ssh/id_rsa (yeranosyanvahan@gmail.com)\n",
      "Enumerating objects: 19, done.\n",
      "Counting objects: 100% (19/19), done.\n",
      "Delta compression using up to 24 threads\n",
      "Compressing objects: 100% (10/10), done.\n",
      "Writing objects: 100% (10/10), 2.03 KiB | 415.00 KiB/s, done.\n",
      "Total 10 (delta 7), reused 0 (delta 0)\n",
      "remote: Resolving deltas: 100% (7/7), completed with 7 local objects.\u001b[K\n",
      "To github.com:yeranosyanvahan/micronet.git\n",
      "   3728c19..90b7c14  main -> main\n"
     ]
    }
   ],
   "source": [
    "!eval `ssh-agent -s` && ssh-add ~/.ssh/id_rsa  && git push"
   ]
  },
  {
   "cell_type": "code",
   "execution_count": 44,
   "id": "a499fb98",
   "metadata": {},
   "outputs": [],
   "source": [
    "!git add ."
   ]
  },
  {
   "cell_type": "code",
   "execution_count": null,
   "id": "03c15857",
   "metadata": {},
   "outputs": [],
   "source": [
    "!g"
   ]
  },
  {
   "cell_type": "code",
   "execution_count": 41,
   "id": "c29888f4",
   "metadata": {},
   "outputs": [
    {
     "name": "stdout",
     "output_type": "stream",
     "text": [
      "On branch main\r\n",
      "Your branch is up to date with 'origin/main'.\r\n",
      "\r\n",
      "Changes to be committed:\r\n",
      "  (use \"git restore --staged <file>...\" to unstage)\r\n",
      "\t\u001b[32mmodified:   example.ipynb\u001b[m\r\n",
      "\t\u001b[32mmodified:   micronet/Protocols/Application.py\u001b[m\r\n",
      "\t\u001b[32mmodified:   micronet/Protocols/Network.py\u001b[m\r\n",
      "\t\u001b[32mmodified:   micronet/Protocols/Network_interface.py\u001b[m\r\n",
      "\t\u001b[32mmodified:   micronet/Protocols/Transport.py\u001b[m\r\n",
      "\t\u001b[32mmodified:   micronet/Protocols/base.py\u001b[m\r\n",
      "\r\n",
      "Changes not staged for commit:\r\n",
      "  (use \"git add <file>...\" to update what will be committed)\r\n",
      "  (use \"git restore <file>...\" to discard changes in working directory)\r\n",
      "\t\u001b[31mmodified:   micronet/drivers/__init__.py\u001b[m\r\n",
      "\r\n"
     ]
    }
   ],
   "source": [
    "!git status"
   ]
  },
  {
   "cell_type": "code",
   "execution_count": 42,
   "id": "2c93f1a1",
   "metadata": {},
   "outputs": [
    {
     "name": "stdout",
     "output_type": "stream",
     "text": [
      "[main 90b7c14] Adding Protocol propogation\r\n",
      " 6 files changed, 112 insertions(+), 68 deletions(-)\r\n"
     ]
    }
   ],
   "source": [
    "!git commit -m \"Adding Protocol propogation\""
   ]
  },
  {
   "cell_type": "code",
   "execution_count": null,
   "id": "3ed64b81",
   "metadata": {},
   "outputs": [],
   "source": []
  }
 ],
 "metadata": {
  "kernelspec": {
   "display_name": "Python 3 (ipykernel)",
   "language": "python",
   "name": "python3"
  },
  "language_info": {
   "codemirror_mode": {
    "name": "ipython",
    "version": 3
   },
   "file_extension": ".py",
   "mimetype": "text/x-python",
   "name": "python",
   "nbconvert_exporter": "python",
   "pygments_lexer": "ipython3",
   "version": "3.9.7"
  }
 },
 "nbformat": 4,
 "nbformat_minor": 5
}
