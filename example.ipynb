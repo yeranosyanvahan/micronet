{
 "cells": [
  {
   "cell_type": "code",
   "execution_count": 22,
   "id": "72afbe01",
   "metadata": {},
   "outputs": [
    {
     "name": "stdout",
     "output_type": "stream",
     "text": [
      "Agent pid 1770\n",
      "Identity added: /home/jovyan/.ssh/id_rsa (yeranosyanvahan@gmail.com)\n",
      "Enumerating objects: 11, done.\n",
      "Counting objects: 100% (11/11), done.\n",
      "Delta compression using up to 24 threads\n",
      "Compressing objects: 100% (6/6), done.\n",
      "Writing objects: 100% (6/6), 1.32 KiB | 338.00 KiB/s, done.\n",
      "Total 6 (delta 4), reused 0 (delta 0)\n",
      "remote: Resolving deltas: 100% (4/4), completed with 4 local objects.\u001b[K\n",
      "To github.com:yeranosyanvahan/micronet.git\n",
      "   8f5a664..3728c19  main -> main\n"
     ]
    }
   ],
   "source": [
    "!eval `ssh-agent -s` && ssh-add ~/.ssh/id_rsa  && git push"
   ]
  },
  {
   "cell_type": "code",
   "execution_count": 24,
   "id": "a499fb98",
   "metadata": {},
   "outputs": [],
   "source": [
    "!git add ."
   ]
  },
  {
   "cell_type": "code",
   "execution_count": 21,
   "id": "2c93f1a1",
   "metadata": {},
   "outputs": [
    {
     "name": "stdout",
     "output_type": "stream",
     "text": [
      "[main 3728c19] Fixing randbytes function\r\n",
      " 2 files changed, 138 insertions(+), 214 deletions(-)\r\n",
      " rewrite example.ipynb (79%)\r\n"
     ]
    }
   ],
   "source": [
    "!git commit -m \"Fixing randbytes function\""
   ]
  },
  {
   "cell_type": "code",
   "execution_count": 25,
   "id": "5ce32c99",
   "metadata": {},
   "outputs": [
    {
     "name": "stdout",
     "output_type": "stream",
     "text": [
      "On branch main\r\n",
      "Your branch is up to date with 'origin/main'.\r\n",
      "\r\n",
      "Changes to be committed:\r\n",
      "  (use \"git restore --staged <file>...\" to unstage)\r\n",
      "\t\u001b[32mmodified:   example.ipynb\u001b[m\r\n",
      "\t\u001b[32mmodified:   micronet/Protocols/Application.py\u001b[m\r\n",
      "\t\u001b[32mmodified:   micronet/Protocols/Network.py\u001b[m\r\n",
      "\t\u001b[32mmodified:   micronet/Protocols/Network_interface.py\u001b[m\r\n",
      "\t\u001b[32mmodified:   micronet/Protocols/Transport.py\u001b[m\r\n",
      "\t\u001b[32mmodified:   micronet/Protocols/base.py\u001b[m\r\n",
      "\t\u001b[32mmodified:   micronet/drivers/__init__.py\u001b[m\r\n",
      "\r\n"
     ]
    }
   ],
   "source": [
    "!git status"
   ]
  },
  {
   "cell_type": "code",
   "execution_count": 30,
   "id": "d674ca5f",
   "metadata": {},
   "outputs": [
    {
     "name": "stdout",
     "output_type": "stream",
     "text": [
      "rm 'micronet/drivers/__init__.py'\r\n"
     ]
    }
   ],
   "source": [
    "!git rm micronet/drivers/__init__.py --cached\n"
   ]
  },
  {
   "cell_type": "code",
   "execution_count": 31,
   "id": "42ed8b20",
   "metadata": {},
   "outputs": [
    {
     "name": "stdout",
     "output_type": "stream",
     "text": [
      "On branch main\r\n",
      "Your branch is up to date with 'origin/main'.\r\n",
      "\r\n",
      "Changes to be committed:\r\n",
      "  (use \"git restore --staged <file>...\" to unstage)\r\n",
      "\t\u001b[32mmodified:   example.ipynb\u001b[m\r\n",
      "\t\u001b[32mmodified:   micronet/Protocols/Application.py\u001b[m\r\n",
      "\t\u001b[32mmodified:   micronet/Protocols/Network.py\u001b[m\r\n",
      "\t\u001b[32mmodified:   micronet/Protocols/Network_interface.py\u001b[m\r\n",
      "\t\u001b[32mmodified:   micronet/Protocols/Transport.py\u001b[m\r\n",
      "\t\u001b[32mmodified:   micronet/Protocols/base.py\u001b[m\r\n",
      "\t\u001b[32mdeleted:    micronet/drivers/__init__.py\u001b[m\r\n",
      "\r\n",
      "Untracked files:\r\n",
      "  (use \"git add <file>...\" to include in what will be committed)\r\n",
      "\t\u001b[31mmicronet/drivers/__init__.py\u001b[m\r\n",
      "\r\n"
     ]
    }
   ],
   "source": [
    "!git status"
   ]
  },
  {
   "cell_type": "code",
   "execution_count": null,
   "id": "f9195855",
   "metadata": {},
   "outputs": [],
   "source": []
  }
 ],
 "metadata": {
  "kernelspec": {
   "display_name": "Python 3 (ipykernel)",
   "language": "python",
   "name": "python3"
  },
  "language_info": {
   "codemirror_mode": {
    "name": "ipython",
    "version": 3
   },
   "file_extension": ".py",
   "mimetype": "text/x-python",
   "name": "python",
   "nbconvert_exporter": "python",
   "pygments_lexer": "ipython3",
   "version": "3.9.7"
  }
 },
 "nbformat": 4,
 "nbformat_minor": 5
}
