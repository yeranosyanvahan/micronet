{
 "cells": [
  {
   "cell_type": "code",
   "execution_count": 4,
   "id": "72afbe01",
   "metadata": {},
   "outputs": [
    {
     "name": "stdout",
     "output_type": "stream",
     "text": [
      "Agent pid 1759\n",
      "Identity added: /home/jovyan/.ssh/id_rsa (yeranosyanvahan@gmail.com)\n",
      "Warning: Permanently added the ECDSA host key for IP address '140.82.121.3' to the list of known hosts.\n",
      "Enumerating objects: 9, done.\n",
      "Counting objects: 100% (9/9), done.\n",
      "Delta compression using up to 24 threads\n",
      "Compressing objects: 100% (5/5), done.\n",
      "Writing objects: 100% (5/5), 1.26 KiB | 322.00 KiB/s, done.\n",
      "Total 5 (delta 3), reused 0 (delta 0)\n",
      "remote: Resolving deltas: 100% (3/3), completed with 3 local objects.\u001b[K\n",
      "To github.com:yeranosyanvahan/micronet.git\n",
      "   7531200..8f5a664  main -> main\n"
     ]
    }
   ],
   "source": [
    "!eval `ssh-agent -s` && ssh-add ~/.ssh/id_rsa  && git push"
   ]
  },
  {
   "cell_type": "code",
   "execution_count": 2,
   "id": "a499fb98",
   "metadata": {},
   "outputs": [],
   "source": [
    "!git add ."
   ]
  },
  {
   "cell_type": "code",
   "execution_count": 3,
   "id": "2c93f1a1",
   "metadata": {},
   "outputs": [
    {
     "name": "stdout",
     "output_type": "stream",
     "text": [
      "[main 8f5a664] Access Packages\r\n",
      " 2 files changed, 214 insertions(+), 151 deletions(-)\r\n",
      " rewrite example.ipynb (63%)\r\n"
     ]
    }
   ],
   "source": [
    "!git commit -m \"Access Packages\""
   ]
  },
  {
   "cell_type": "code",
   "execution_count": 11,
   "id": "bb232b56",
   "metadata": {},
   "outputs": [
    {
     "data": {
      "text/plain": [
       "350"
      ]
     },
     "execution_count": 11,
     "metadata": {},
     "output_type": "execute_result"
    }
   ],
   "source": [
    "import random \n",
    "random.ge#getrandbits(10)"
   ]
  },
  {
   "cell_type": "code",
   "execution_count": 12,
   "id": "3465639f",
   "metadata": {},
   "outputs": [
    {
     "data": {
      "text/plain": [
       "b'\\xc3ST\\xf6\\x06\\xa30I\\xc0\\xd8'"
      ]
     },
     "execution_count": 12,
     "metadata": {},
     "output_type": "execute_result"
    }
   ],
   "source": [
    "from random import randbytes\n",
    "randbytes(10)"
   ]
  },
  {
   "cell_type": "code",
   "execution_count": null,
   "id": "600fa4e5",
   "metadata": {},
   "outputs": [],
   "source": []
  }
 ],
 "metadata": {
  "kernelspec": {
   "display_name": "Python 3 (ipykernel)",
   "language": "python",
   "name": "python3"
  },
  "language_info": {
   "codemirror_mode": {
    "name": "ipython",
    "version": 3
   },
   "file_extension": ".py",
   "mimetype": "text/x-python",
   "name": "python",
   "nbconvert_exporter": "python",
   "pygments_lexer": "ipython3",
   "version": "3.9.7"
  }
 },
 "nbformat": 4,
 "nbformat_minor": 5
}
