{
 "cells": [
  {
   "cell_type": "code",
   "execution_count": 21,
   "id": "72afbe01",
   "metadata": {},
   "outputs": [
    {
     "name": "stdout",
     "output_type": "stream",
     "text": [
      "Agent pid 2241\n",
      "Identity added: /home/jovyan/.ssh/id_rsa (yeranosyanvahan@gmail.com)\n",
      "Enumerating objects: 15, done.\n",
      "Counting objects: 100% (15/15), done.\n",
      "Delta compression using up to 24 threads\n",
      "Compressing objects: 100% (8/8), done.\n",
      "Writing objects: 100% (8/8), 3.19 KiB | 544.00 KiB/s, done.\n",
      "Total 8 (delta 4), reused 0 (delta 0)\n",
      "remote: Resolving deltas: 100% (4/4), completed with 4 local objects.\u001b[K\n",
      "To github.com:yeranosyanvahan/micronet.git\n",
      "   c6a1b98..f7d592b  main -> main\n"
     ]
    }
   ],
   "source": [
    "!eval `ssh-agent -s` && ssh-add ~/.ssh/id_rsa  && git push"
   ]
  },
  {
   "cell_type": "code",
   "execution_count": 17,
   "id": "a499fb98",
   "metadata": {},
   "outputs": [],
   "source": [
    "!git add ."
   ]
  },
  {
   "cell_type": "code",
   "execution_count": 18,
   "id": "5827a4c3",
   "metadata": {},
   "outputs": [
    {
     "name": "stdout",
     "output_type": "stream",
     "text": [
      "Unstaged changes after reset:\r\n",
      "M\tmicronet/drivers/__init__.py\r\n"
     ]
    }
   ],
   "source": [
    "!git reset micronet/drivers/__init__.py"
   ]
  },
  {
   "cell_type": "code",
   "execution_count": 19,
   "id": "4d1a538a",
   "metadata": {},
   "outputs": [
    {
     "name": "stdout",
     "output_type": "stream",
     "text": [
      "On branch main\r\n",
      "Your branch is up to date with 'origin/main'.\r\n",
      "\r\n",
      "Changes to be committed:\r\n",
      "  (use \"git restore --staged <file>...\" to unstage)\r\n",
      "\t\u001b[32mmodified:   example.ipynb\u001b[m\r\n",
      "\t\u001b[32mmodified:   micronet/Protocols/Application.py\u001b[m\r\n",
      "\t\u001b[32mmodified:   micronet/Protocols/Network.py\u001b[m\r\n",
      "\t\u001b[32mmodified:   micronet/Protocols/Network_interface.py\u001b[m\r\n",
      "\r\n",
      "Changes not staged for commit:\r\n",
      "  (use \"git add <file>...\" to update what will be committed)\r\n",
      "  (use \"git restore <file>...\" to discard changes in working directory)\r\n",
      "\t\u001b[31mmodified:   micronet/drivers/__init__.py\u001b[m\r\n",
      "\r\n"
     ]
    }
   ],
   "source": [
    "!git status"
   ]
  },
  {
   "cell_type": "code",
   "execution_count": 20,
   "id": "2c93f1a1",
   "metadata": {
    "scrolled": true
   },
   "outputs": [
    {
     "name": "stdout",
     "output_type": "stream",
     "text": [
      "[main f7d592b] Adding DHCP DORA\r\n",
      " 4 files changed, 310 insertions(+), 57 deletions(-)\r\n"
     ]
    }
   ],
   "source": [
    "!git commit -m \"Adding DHCP DORA\""
   ]
  },
  {
   "cell_type": "code",
   "execution_count": 3,
   "id": "745b1522",
   "metadata": {},
   "outputs": [],
   "source": [
    "from micronet.Protocols import microsocket, microinterface, microbuffer\n",
    "\n",
    "eth = microbuffer()\n",
    "src = microsocket(\n",
    "    bytearray([0xFF,0xFF,0xFF,0xFF,0xFF,0xFF]),\n",
    "    '0.0.0.0',\n",
    "    0,\n",
    "    'localhost'\n",
    "    )\n",
    "dst = microsocket(\n",
    "    bytearray([0xFF,0xFF,0xFF,0xFF,0xFF,0xFF]),\n",
    "    '0.0.0.0',\n",
    "    0,\n",
    "    'Bcast'\n",
    "    )\n",
    "interface = microinterface(src,dst, device = eth)\n",
    "\n",
    "from micronet.Protocols import UDP, ETH, DHCP, IP\n",
    "eth = ETH(interface)\n",
    "ip = IP(eth)\n",
    "udp = UDP(ip)\n",
    "dhcp = DHCP(udp)"
   ]
  },
  {
   "cell_type": "code",
   "execution_count": 4,
   "id": "cc4ce9b9",
   "metadata": {},
   "outputs": [],
   "source": [
    "MSG = b\"\\x0e__<~&d\\xd1T\\xc9Y|\\x08\\x00E\\x00\\x01H\\x00\\x00\\x00\\x00\\x10\\x11'\\x97\\xc0\\xa8\\x00\\x01\\xc0\\xa8\\x00\\xbd\\x00C\\x00D\\x014>\\x0f\\x02\\x01\\x06\\x00\\xb3\\x81b\\x98\\x00\\x00\\x00\\x00\\x00\\x00\\x00\\x00\\xc0\\xa8\\x00\\xbd\\xc0\\xa8\\x00\\x01\\x00\\x00\\x00\\x00\\x0e__<~&\\x00\\x00\\x00\\x00\\x00\\x00\\x00\\x00\\x00\\x00\\x00\\x00\\x00\\x00\\x00\\x00\\x00\\x00\\x00\\x00\\x00\\x00\\x00\\x00\\x00\\x00\\x00\\x00\\x00\\x00\\x00\\x00\\x00\\x00\\x00\\x00\\x00\\x00\\x00\\x00\\x00\\x00\\x00\\x00\\x00\\x00\\x00\\x00\\x00\\x00\\x00\\x00\\x00\\x00\\x00\\x00\\x00\\x00\\x00\\x00\\x00\\x00\\x00\\x00\\x00\\x00\\x00\\x00\\x00\\x00\\x00\\x00\\x00\\x00\\x00\\x00\\x00\\x00\\x00\\x00\\x00\\x00\\x00\\x00\\x00\\x00\\x00\\x00\\x00\\x00\\x00\\x00\\x00\\x00\\x00\\x00\\x00\\x00\\x00\\x00\\x00\\x00\\x00\\x00\\x00\\x00\\x00\\x00\\x00\\x00\\x00\\x00\\x00\\x00\\x00\\x00\\x00\\x00\\x00\\x00\\x00\\x00\\x00\\x00\\x00\\x00\\x00\\x00\\x00\\x00\\x00\\x00\\x00\\x00\\x00\\x00\\x00\\x00\\x00\\x00\\x00\\x00\\x00\\x00\\x00\\x00\\x00\\x00\\x00\\x00\\x00\\x00\\x00\\x00\\x00\\x00\\x00\\x00\\x00\\x00\\x00\\x00\\x00\\x00\\x00\\x00\\x00\\x00\\x00\\x00\\x00\\x00\\x00\\x00\\x00\\x00\\x00\\x00\\x00\\x00\\x00\\x00\\x00\\x00\\x00\\x00\\x00\\x00\\x00\\x00\\x00\\x00\\x00\\x00\\x00\\x00\\x00\\x00\\x00\\x00\\x00\\x00c\\x82Sc5\\x01\\x026\\x04\\xc0\\xa8\\x00\\x013\\x04\\x00\\x00\\x02X\\x01\\x04\\xff\\xff\\xff\\x00\\x03\\x04\\xc0\\xa8\\x00\\x01\\x06\\x08\\xb99D\\x02\\xc2=Y\\x83\\xff\\x00\\x00\\x00\\x00\\x00\\x00\\x00\\x00\\x00\\x00\\x00\\x00\\x00\\x00\\x00\\x00\\x00\\x00\\x00\\x00\\x00\\x00\\x91\\x98\\xce\\xd3\""
   ]
  },
  {
   "cell_type": "code",
   "execution_count": 5,
   "id": "97388cb5",
   "metadata": {},
   "outputs": [
    {
     "data": {
      "text/plain": [
       "'0e5f5f3c7e2664d154c9597c0800450001480000000010112797c0a80001c0a800bd0043004401343e0f02010600b38162980000000000000000c0a800bdc0a80001000000000e5f5f3c7e2600000000000000000000000000000000000000000000000000000000000000000000000000000000000000000000000000000000000000000000000000000000000000000000000000000000000000000000000000000000000000000000000000000000000000000000000000000000000000000000000000000000000000000000000000000000000000000000000000000000000000000000000000000000000000000000000000000000000000000000000000000000000000000000000000000000000000000000638253633501023604c0a800013304000002580104ffffff000304c0a800010608b9394402c23d5983ff000000000000000000000000000000000000000000009198ced3'"
      ]
     },
     "execution_count": 5,
     "metadata": {},
     "output_type": "execute_result"
    }
   ],
   "source": [
    "MSG.hex()"
   ]
  },
  {
   "cell_type": "code",
   "execution_count": 6,
   "id": "0a512cda",
   "metadata": {},
   "outputs": [
    {
     "data": {
      "text/plain": [
       "'450001480000000010112797c0a80001c0a800bd0043004401343e0f02010600b38162980000000000000000c0a800bdc0a80001000000000e5f5f3c7e2600000000000000000000000000000000000000000000000000000000000000000000000000000000000000000000000000000000000000000000000000000000000000000000000000000000000000000000000000000000000000000000000000000000000000000000000000000000000000000000000000000000000000000000000000000000000000000000000000000000000000000000000000000000000000000000000000000000000000000000000000000000000000000000000000000000000000000000638253633501023604c0a800013304000002580104ffffff000304c0a800010608b9394402c23d5983ff00000000000000000000000000000000000000000000'"
      ]
     },
     "execution_count": 6,
     "metadata": {},
     "output_type": "execute_result"
    }
   ],
   "source": [
    "MSG = eth.decapsulate(MSG)\n",
    "MSG.hex()"
   ]
  },
  {
   "cell_type": "code",
   "execution_count": 7,
   "id": "a3d81e62",
   "metadata": {},
   "outputs": [
    {
     "data": {
      "text/plain": [
       "'0043004401343e0f02010600b38162980000000000000000c0a800bdc0a80001000000000e5f5f3c7e2600000000000000000000000000000000000000000000000000000000000000000000000000000000000000000000000000000000000000000000000000000000000000000000000000000000000000000000000000000000000000000000000000000000000000000000000000000000000000000000000000000000000000000000000000000000000000000000000000000000000000000000000000000000000000000000000000000000000000000000000000000000000000000000000000000000000000000000638253633501023604c0a800013304000002580104ffffff000304c0a800010608b9394402c23d5983ff00000000000000000000000000000000000000000000'"
      ]
     },
     "execution_count": 7,
     "metadata": {},
     "output_type": "execute_result"
    }
   ],
   "source": [
    "MSG = ip.decapsulate(MSG)\n",
    "MSG.hex()"
   ]
  },
  {
   "cell_type": "code",
   "execution_count": 8,
   "id": "2dfb91eb",
   "metadata": {},
   "outputs": [
    {
     "data": {
      "text/plain": [
       "b'\\x02\\x01\\x06\\x00\\xb3\\x81b\\x98\\x00\\x00\\x00\\x00\\x00\\x00\\x00\\x00\\xc0\\xa8\\x00\\xbd\\xc0\\xa8\\x00\\x01\\x00\\x00\\x00\\x00\\x0e__<~&\\x00\\x00\\x00\\x00\\x00\\x00\\x00\\x00\\x00\\x00\\x00\\x00\\x00\\x00\\x00\\x00\\x00\\x00\\x00\\x00\\x00\\x00\\x00\\x00\\x00\\x00\\x00\\x00\\x00\\x00\\x00\\x00\\x00\\x00\\x00\\x00\\x00\\x00\\x00\\x00\\x00\\x00\\x00\\x00\\x00\\x00\\x00\\x00\\x00\\x00\\x00\\x00\\x00\\x00\\x00\\x00\\x00\\x00\\x00\\x00\\x00\\x00\\x00\\x00\\x00\\x00\\x00\\x00\\x00\\x00\\x00\\x00\\x00\\x00\\x00\\x00\\x00\\x00\\x00\\x00\\x00\\x00\\x00\\x00\\x00\\x00\\x00\\x00\\x00\\x00\\x00\\x00\\x00\\x00\\x00\\x00\\x00\\x00\\x00\\x00\\x00\\x00\\x00\\x00\\x00\\x00\\x00\\x00\\x00\\x00\\x00\\x00\\x00\\x00\\x00\\x00\\x00\\x00\\x00\\x00\\x00\\x00\\x00\\x00\\x00\\x00\\x00\\x00\\x00\\x00\\x00\\x00\\x00\\x00\\x00\\x00\\x00\\x00\\x00\\x00\\x00\\x00\\x00\\x00\\x00\\x00\\x00\\x00\\x00\\x00\\x00\\x00\\x00\\x00\\x00\\x00\\x00\\x00\\x00\\x00\\x00\\x00\\x00\\x00\\x00\\x00\\x00\\x00\\x00\\x00\\x00\\x00\\x00\\x00\\x00\\x00\\x00\\x00\\x00\\x00\\x00\\x00\\x00\\x00\\x00\\x00\\x00\\x00\\x00\\x00\\x00\\x00\\x00\\x00\\x00\\x00\\x00\\x00\\x00\\x00\\x00\\x00c\\x82Sc5\\x01\\x026\\x04\\xc0\\xa8\\x00\\x013\\x04\\x00\\x00\\x02X\\x01\\x04\\xff\\xff\\xff\\x00\\x03\\x04\\xc0\\xa8\\x00\\x01\\x06\\x08\\xb99D\\x02\\xc2=Y\\x83\\xff\\x00\\x00\\x00\\x00\\x00\\x00\\x00\\x00\\x00\\x00\\x00\\x00\\x00\\x00\\x00\\x00\\x00\\x00\\x00\\x00\\x00\\x00'"
      ]
     },
     "execution_count": 8,
     "metadata": {},
     "output_type": "execute_result"
    }
   ],
   "source": [
    "MSG = udp.decapsulate(MSG)\n",
    "MSG"
   ]
  },
  {
   "cell_type": "code",
   "execution_count": 9,
   "id": "9a0db885",
   "metadata": {},
   "outputs": [
    {
     "data": {
      "text/plain": [
       "False"
      ]
     },
     "execution_count": 9,
     "metadata": {},
     "output_type": "execute_result"
    }
   ],
   "source": [
    "dhcp.offer(MSG)"
   ]
  },
  {
   "cell_type": "code",
   "execution_count": 10,
   "id": "c4bf8397",
   "metadata": {},
   "outputs": [],
   "source": [
    "dhcp = DHCP.Message.unpack(MSG)"
   ]
  },
  {
   "cell_type": "code",
   "execution_count": 11,
   "id": "a3309167",
   "metadata": {},
   "outputs": [
    {
     "data": {
      "text/plain": [
       "b'\\x02\\x01\\x06\\x00\\xb3\\x81b\\x98\\x00\\x00\\x00\\x00\\x00\\x00\\x00\\x00\\xc0\\xa8\\x00\\xbd\\xc0\\xa8\\x00\\x01\\x00\\x00\\x00\\x00\\x0e__<~&\\x00\\x00\\x00\\x00\\x00\\x00\\x00\\x00\\x00\\x00\\x00\\x00\\x00\\x00\\x00\\x00\\x00\\x00\\x00\\x00\\x00\\x00\\x00\\x00\\x00\\x00\\x00\\x00\\x00\\x00\\x00\\x00\\x00\\x00\\x00\\x00\\x00\\x00\\x00\\x00\\x00\\x00\\x00\\x00\\x00\\x00\\x00\\x00\\x00\\x00\\x00\\x00\\x00\\x00\\x00\\x00\\x00\\x00\\x00\\x00\\x00\\x00\\x00\\x00\\x00\\x00\\x00\\x00\\x00\\x00\\x00\\x00\\x00\\x00\\x00\\x00\\x00\\x00\\x00\\x00\\x00\\x00\\x00\\x00\\x00\\x00\\x00\\x00\\x00\\x00\\x00\\x00\\x00\\x00\\x00\\x00\\x00\\x00\\x00\\x00\\x00\\x00\\x00\\x00\\x00\\x00\\x00\\x00\\x00\\x00\\x00\\x00\\x00\\x00\\x00\\x00\\x00\\x00\\x00\\x00\\x00\\x00\\x00\\x00\\x00\\x00\\x00\\x00\\x00\\x00\\x00\\x00\\x00\\x00\\x00\\x00\\x00\\x00\\x00\\x00\\x00\\x00\\x00\\x00\\x00\\x00\\x00\\x00\\x00\\x00\\x00\\x00\\x00\\x00\\x00\\x00\\x00\\x00\\x00\\x00\\x00\\x00\\x00\\x00\\x00\\x00\\x00\\x00\\x00\\x00\\x00\\x00\\x00\\x00\\x00\\x00\\x00\\x00\\x00\\x00\\x00\\x00\\x00\\x00\\x00\\x00\\x00\\x00\\x00\\x00\\x00\\x00\\x00\\x00\\x00\\x00\\x00\\x00\\x00\\x00\\x00\\x00c\\x82Sc5\\x01\\x026\\x04\\xc0\\xa8\\x00\\x013\\x04\\x00\\x00\\x02X\\x01\\x04\\xff\\xff\\xff\\x00\\x03\\x04\\xc0\\xa8\\x00\\x01\\x06\\x08\\xb99D\\x02\\xc2=Y\\x83\\xff\\x00\\x00\\x00\\x00\\x00\\x00\\x00\\x00\\x00\\x00\\x00\\x00\\x00\\x00\\x00\\x00\\x00\\x00\\x00\\x00\\x00\\x00'"
      ]
     },
     "execution_count": 11,
     "metadata": {},
     "output_type": "execute_result"
    }
   ],
   "source": [
    "MSG"
   ]
  },
  {
   "cell_type": "code",
   "execution_count": 11,
   "id": "daa10d32",
   "metadata": {},
   "outputs": [
    {
     "data": {
      "text/plain": [
       "[99, 130, 83, 99]"
      ]
     },
     "execution_count": 11,
     "metadata": {},
     "output_type": "execute_result"
    }
   ],
   "source": [
    "import struct\n",
    "[_ for _ in dhcp.mcookie]"
   ]
  },
  {
   "cell_type": "code",
   "execution_count": 17,
   "id": "cc589503",
   "metadata": {},
   "outputs": [
    {
     "data": {
      "text/plain": [
       "{53: b'\\x02',\n",
       " 54: b'\\xc0\\xa8\\x00\\x01',\n",
       " 51: b'\\x00\\x00\\x02X',\n",
       " 1: b'\\xff\\xff\\xff\\x00',\n",
       " 3: b'\\xc0\\xa8\\x00\\x01',\n",
       " 6: b'\\xb99D\\x02\\xc2=Y\\x83'}"
      ]
     },
     "execution_count": 17,
     "metadata": {},
     "output_type": "execute_result"
    }
   ],
   "source": [
    "dhcp.options.option"
   ]
  },
  {
   "cell_type": "code",
   "execution_count": 14,
   "id": "4faef472",
   "metadata": {},
   "outputs": [
    {
     "data": {
      "text/plain": [
       "44"
      ]
     },
     "execution_count": 14,
     "metadata": {},
     "output_type": "execute_result"
    }
   ],
   "source": [
    "28+16"
   ]
  },
  {
   "cell_type": "code",
   "execution_count": 18,
   "id": "fe5f1557",
   "metadata": {},
   "outputs": [
    {
     "data": {
      "text/plain": [
       "308"
      ]
     },
     "execution_count": 18,
     "metadata": {},
     "output_type": "execute_result"
    }
   ],
   "source": [
    "udp.header.segmentlength"
   ]
  },
  {
   "cell_type": "code",
   "execution_count": 22,
   "id": "494f282b",
   "metadata": {},
   "outputs": [
    {
     "data": {
      "text/plain": [
       "b'\\x00'"
      ]
     },
     "execution_count": 22,
     "metadata": {},
     "output_type": "execute_result"
    }
   ],
   "source": [
    "b'\\x00'"
   ]
  },
  {
   "cell_type": "code",
   "execution_count": null,
   "id": "a2ac9882",
   "metadata": {},
   "outputs": [],
   "source": []
  }
 ],
 "metadata": {
  "kernelspec": {
   "display_name": "Python 3 (ipykernel)",
   "language": "python",
   "name": "python3"
  },
  "language_info": {
   "codemirror_mode": {
    "name": "ipython",
    "version": 3
   },
   "file_extension": ".py",
   "mimetype": "text/x-python",
   "name": "python",
   "nbconvert_exporter": "python",
   "pygments_lexer": "ipython3",
   "version": "3.9.7"
  }
 },
 "nbformat": 4,
 "nbformat_minor": 5
}
