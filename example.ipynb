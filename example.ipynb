{
 "cells": [
  {
   "cell_type": "code",
   "execution_count": 11,
   "id": "72afbe01",
   "metadata": {},
   "outputs": [
    {
     "name": "stdout",
     "output_type": "stream",
     "text": [
      "Agent pid 2016\n",
      "Identity added: /home/jovyan/.ssh/id_rsa (yeranosyanvahan@gmail.com)\n",
      "Enumerating objects: 17, done.\n",
      "Counting objects: 100% (17/17), done.\n",
      "Delta compression using up to 24 threads\n",
      "Compressing objects: 100% (9/9), done.\n",
      "Writing objects: 100% (9/9), 1.11 KiB | 284.00 KiB/s, done.\n",
      "Total 9 (delta 5), reused 0 (delta 0)\n",
      "remote: Resolving deltas: 100% (5/5), completed with 5 local objects.\u001b[K\n",
      "To github.com:yeranosyanvahan/micronet.git\n",
      "   e92c5fa..f84a666  main -> main\n"
     ]
    }
   ],
   "source": [
    "!eval `ssh-agent -s` && ssh-add ~/.ssh/id_rsa  && git push"
   ]
  },
  {
   "cell_type": "code",
   "execution_count": 7,
   "id": "a499fb98",
   "metadata": {},
   "outputs": [],
   "source": [
    "!git add ."
   ]
  },
  {
   "cell_type": "code",
   "execution_count": 8,
   "id": "5827a4c3",
   "metadata": {},
   "outputs": [
    {
     "name": "stdout",
     "output_type": "stream",
     "text": [
      "Unstaged changes after reset:\r\n",
      "M\tmicronet/drivers/__init__.py\r\n"
     ]
    }
   ],
   "source": [
    "!git reset micronet/drivers/__init__.py"
   ]
  },
  {
   "cell_type": "code",
   "execution_count": 9,
   "id": "4d1a538a",
   "metadata": {},
   "outputs": [
    {
     "name": "stdout",
     "output_type": "stream",
     "text": [
      "On branch main\r\n",
      "Your branch is up to date with 'origin/main'.\r\n",
      "\r\n",
      "Changes to be committed:\r\n",
      "  (use \"git restore --staged <file>...\" to unstage)\r\n",
      "\t\u001b[32mmodified:   example.ipynb\u001b[m\r\n",
      "\t\u001b[32mmodified:   micronet/Protocols/Application.py\u001b[m\r\n",
      "\t\u001b[32mmodified:   micronet/drivers/enc28j60/__init__.py\u001b[m\r\n",
      "\r\n",
      "Changes not staged for commit:\r\n",
      "  (use \"git add <file>...\" to update what will be committed)\r\n",
      "  (use \"git restore <file>...\" to discard changes in working directory)\r\n",
      "\t\u001b[31mmodified:   micronet/drivers/__init__.py\u001b[m\r\n",
      "\r\n"
     ]
    }
   ],
   "source": [
    "!git status"
   ]
  },
  {
   "cell_type": "code",
   "execution_count": 10,
   "id": "2c93f1a1",
   "metadata": {},
   "outputs": [
    {
     "name": "stdout",
     "output_type": "stream",
     "text": [
      "[main f84a666] Fix driver and DHCP 3\r\n",
      " 3 files changed, 26 insertions(+), 27 deletions(-)\r\n"
     ]
    }
   ],
   "source": [
    "!git commit -m \"Fix driver and DHCP 3\""
   ]
  },
  {
   "cell_type": "code",
   "execution_count": 1,
   "id": "745b1522",
   "metadata": {},
   "outputs": [],
   "source": [
    "from micronet.Protocols import microsocket, microinterface, microbuffer\n",
    "\n",
    "eth = microbuffer()\n",
    "src = microsocket(\n",
    "    bytearray([0xFF,0xFF,0xFF,0xFF,0xFF,0xFF]),\n",
    "    '0.0.0.0',\n",
    "    0,\n",
    "    'localhost'\n",
    "    )\n",
    "dst = microsocket(\n",
    "    bytearray([0xFF,0xFF,0xFF,0xFF,0xFF,0xFF]),\n",
    "    '0.0.0.0',\n",
    "    0,\n",
    "    'Bcast'\n",
    "    )\n",
    "interface = microinterface(src,dst, device = eth)\n",
    "\n",
    "from micronet.Protocols import UDP, ETH, DHCP, IP\n",
    "interface =  IP(interface)\n",
    "\n",
    "#dhcp = DHCP(interface)\n",
    "#print(dhcp.discover())\n",
    "\n",
    "interface.send(b'hello world')"
   ]
  },
  {
   "cell_type": "code",
   "execution_count": null,
   "id": "a2896329",
   "metadata": {},
   "outputs": [],
   "source": []
  }
 ],
 "metadata": {
  "kernelspec": {
   "display_name": "Python 3 (ipykernel)",
   "language": "python",
   "name": "python3"
  },
  "language_info": {
   "codemirror_mode": {
    "name": "ipython",
    "version": 3
   },
   "file_extension": ".py",
   "mimetype": "text/x-python",
   "name": "python",
   "nbconvert_exporter": "python",
   "pygments_lexer": "ipython3",
   "version": "3.9.7"
  }
 },
 "nbformat": 4,
 "nbformat_minor": 5
}
